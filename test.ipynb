{
 "cells": [
  {
   "cell_type": "code",
   "execution_count": 23,
   "metadata": {},
   "outputs": [],
   "source": [
    "import os\n",
    "from Bio import Align\n"
   ]
  },
  {
   "cell_type": "code",
   "execution_count": 33,
   "metadata": {},
   "outputs": [],
   "source": [
    "pdb_file = './pdb/7XNO_A.pdb'\n",
    "pdb_id = os.path.basename(pdb_file).split('.pdb')[0]\n",
    "fasta_file = f'./fasta/{pdb_id}.fasta'"
   ]
  },
  {
   "cell_type": "code",
   "execution_count": 34,
   "metadata": {},
   "outputs": [
    {
     "name": "stdout",
     "output_type": "stream",
     "text": [
      "ARSYGNGVYCNNKKCWVNRGEATQSIIGGMISGWASGLAGM\n"
     ]
    }
   ],
   "source": [
    "pdb_seqls = os.popen(f'pdb_tofasta {pdb_file}').readlines()[1:]\n",
    "pdb_seq = ''.join([i.strip() for i in pdb_seqls]).replace('X', '')\n",
    "print(pdb_seq)"
   ]
  },
  {
   "cell_type": "code",
   "execution_count": 35,
   "metadata": {},
   "outputs": [
    {
     "name": "stdout",
     "output_type": "stream",
     "text": [
      "ARSYGNGVYCNNKKCWVNRGEATQSIIGGMISGWASGLAGM\n"
     ]
    }
   ],
   "source": [
    "with open(fasta_file, 'r') as f:\n",
    "    fasta_seq = f.readlines()[1].strip()\n",
    "print(fasta_seq)"
   ]
  },
  {
   "cell_type": "code",
   "execution_count": 32,
   "metadata": {},
   "outputs": [
    {
     "name": "stdout",
     "output_type": "stream",
     "text": [
      "target            0 ARSYGNGVYCNNKKCWVNRGEATQSIIGGMISGWASGLAGM 41\n",
      "                  0 ||||||||||||||||||||||||||||||||||||||||| 41\n",
      "query             0 ARSYGNGVYCNNKKCWVNRGEATQSIIGGMISGWASGLAGM 41\n",
      "\n"
     ]
    }
   ],
   "source": [
    "aligner = Align.PairwiseAligner()\n",
    "alignment = aligner.align(fasta_seq, pdb_seq)[0]\n",
    "print(alignment)\n",
    "assert len(alignment[0]) == len(fasta_seq)"
   ]
  },
  {
   "cell_type": "code",
   "execution_count": 36,
   "metadata": {},
   "outputs": [
    {
     "name": "stdout",
     "output_type": "stream",
     "text": [
      "ATOM      1  N   ALA A   1     119.914 153.030 113.152  1.00 63.64      A    N  \n",
      "\n"
     ]
    }
   ],
   "source": []
  },
  {
   "cell_type": "code",
   "execution_count": 37,
   "metadata": {},
   "outputs": [
    {
     "name": "stdout",
     "output_type": "stream",
     "text": [
      "{1: 1, 2: 2, 3: 3, 4: 4, 5: 5, 6: 6, 7: 7, 8: 8, 9: 9, 10: 10, 11: 11, 12: 12, 13: 13, 14: 14, 15: 15, 16: 16, 17: 17, 18: 18, 19: 19, 20: 20, 21: 21, 22: 22, 23: 23, 24: 24, 25: 25, 26: 26, 27: 27, 28: 28, 29: 29, 30: 30, 31: 31, 32: 32, 33: 33, 34: 34, 35: 35, 36: 36, 37: 37, 38: 38, 39: 39, 40: 40, 41: 41}\n"
     ]
    }
   ],
   "source": [
    "p_pdb = 0\n",
    "p_fst = 0\n",
    "mapping = {}\n",
    "for i in alignment[1]:\n",
    "    p_fst += 1\n",
    "    if i != '-':\n",
    "        p_pdb += 1\n",
    "        mapping[p_pdb] = p_fst\n",
    "\n",
    "print(mapping)\n"
   ]
  },
  {
   "cell_type": "code",
   "execution_count": 38,
   "metadata": {},
   "outputs": [],
   "source": [
    "def remap_resnum_for_line(pdb_file, mapping):\n",
    "    newlines = []\n",
    "    last_resstr = \"\"\n",
    "    resi = 0\n",
    "\n",
    "    with open(pdb_file, 'r') as f:\n",
    "        lines = f.readlines()\n",
    "    for line in lines:\n",
    "        if not line.startswith('ATOM '):\n",
    "                continue\n",
    "        left = line[:22]\n",
    "        right = line[27:]\n",
    "        resstr = line[22:27]\n",
    "        if resstr == last_resstr:\n",
    "            newstr = \"%4d \" % mapping[resi]\n",
    "        else:\n",
    "            last_resstr = resstr\n",
    "            if resi != len(mapping):\n",
    "                resi += 1\n",
    "            if resi == len(mapping):\n",
    "                resi = resi\n",
    "            newstr = \"%4d \" % mapping[resi]\n",
    "        #print(\"|\"+resstr+\"|\"+newstr+\"|\")\n",
    "        newlines.append(left+newstr+right)\n",
    "    return newlines"
   ]
  },
  {
   "cell_type": "code",
   "execution_count": 42,
   "metadata": {},
   "outputs": [],
   "source": [
    "new_lines = remap_resnum_for_line(pdb_file, mapping)\n",
    "with open(f'./pdb_renum/{pdb_id}_renum.pdb', 'w') as f:\n",
    "    f.writelines(new_lines)\n"
   ]
  },
  {
   "cell_type": "code",
   "execution_count": 40,
   "metadata": {},
   "outputs": [
    {
     "data": {
      "text/plain": [
       "'ATOM      2  CA  ALA A   1     118.819 152.688 114.052  1.00 63.64      A    C  \\n'"
      ]
     },
     "execution_count": 40,
     "metadata": {},
     "output_type": "execute_result"
    }
   ],
   "source": [
    "new_lines[1]"
   ]
  },
  {
   "cell_type": "code",
   "execution_count": null,
   "metadata": {},
   "outputs": [],
   "source": []
  }
 ],
 "metadata": {
  "kernelspec": {
   "display_name": "mindspore",
   "language": "python",
   "name": "python3"
  },
  "language_info": {
   "codemirror_mode": {
    "name": "ipython",
    "version": 3
   },
   "file_extension": ".py",
   "mimetype": "text/x-python",
   "name": "python",
   "nbconvert_exporter": "python",
   "pygments_lexer": "ipython3",
   "version": "3.9.0"
  },
  "orig_nbformat": 4
 },
 "nbformat": 4,
 "nbformat_minor": 2
}
